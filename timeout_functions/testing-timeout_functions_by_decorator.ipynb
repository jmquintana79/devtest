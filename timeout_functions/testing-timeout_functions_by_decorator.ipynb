{
 "cells": [
  {
   "cell_type": "markdown",
   "metadata": {},
   "source": [
    "# Testing: TimeOut functions\n",
    "\n",
    "A veces puede ser util forzar a una funcion parar y devolviendo un mensaje de error cuando el tiempo de ejecucion es excesivo. De ahi que voy a probar el sudo de la libreria [timeout_decorator](https://pypi.org/project/timeout-decorator/) para ver si puede ser util. "
   ]
  },
  {
   "cell_type": "code",
   "execution_count": 4,
   "metadata": {},
   "outputs": [
    {
     "name": "stdout",
     "output_type": "stream",
     "text": [
      "otro except\n",
      "Start\n",
      "1 seconds have passed\n",
      "2 seconds have passed\n",
      "3 seconds have passed\n",
      "4 seconds have passed\n",
      "'Timed Out'\n"
     ]
    }
   ],
   "source": [
    "import time\n",
    "import timeout_decorator\n",
    "\n",
    "@timeout_decorator.timeout(5) # 5 seconds\n",
    "def mytest():\n",
    "    print(\"Start\")\n",
    "    for i in range(1,10):\n",
    "        time.sleep(1)\n",
    "        print(\"%d seconds have passed\" % i)\n",
    "\n",
    "if __name__ == '__main__':\n",
    "    try:\n",
    "        mytest()\n",
    "    except Exception as e:\n",
    "        print(str(e))"
   ]
  }
 ],
 "metadata": {
  "kernelspec": {
   "display_name": "pruebas",
   "language": "python",
   "name": "pruebas"
  },
  "language_info": {
   "codemirror_mode": {
    "name": "ipython",
    "version": 3
   },
   "file_extension": ".py",
   "mimetype": "text/x-python",
   "name": "python",
   "nbconvert_exporter": "python",
   "pygments_lexer": "ipython3",
   "version": "3.7.0"
  }
 },
 "nbformat": 4,
 "nbformat_minor": 4
}
