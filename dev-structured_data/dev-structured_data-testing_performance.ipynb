{
 "cells": [
  {
   "cell_type": "markdown",
   "metadata": {},
   "source": [
    "# STRUCTURED DATA CONTAINER: Performance\n",
    "\n",
    "This is a research about structured data containers using a typical dataset of my projects (nrows=17302, ncols=187). It will be tested the performance between:\n",
    "    - Pandas dataframes.\n",
    "    - Numpy basic arrays.\n",
    "    - Numpy structured arrays.\n",
    "    - Numpy record arrays (from Pandas dataframe).\n",
    "    - Custom array: Numpy basic arrays with column selector."
   ]
  },
  {
   "cell_type": "code",
   "execution_count": 1,
   "metadata": {},
   "outputs": [],
   "source": [
    "import sys\n",
    "import pandas as pd\n",
    "import numpy as np"
   ]
  },
  {
   "cell_type": "markdown",
   "metadata": {},
   "source": [
    "### arguments"
   ]
  },
  {
   "cell_type": "code",
   "execution_count": 2,
   "metadata": {},
   "outputs": [],
   "source": [
    "file_input = 'meteo.csv'"
   ]
  },
  {
   "cell_type": "markdown",
   "metadata": {},
   "source": [
    "### classes"
   ]
  },
  {
   "cell_type": "code",
   "execution_count": 3,
   "metadata": {},
   "outputs": [],
   "source": [
    "## basic numpy array with columns selector\n",
    "class Array:\n",
    "    \"\"\"\n",
    "    Basic numpy array with columns selector.\n",
    "\n",
    "    Attributes:\n",
    "    data -- array of X data.\n",
    "    colums -- column names.\n",
    "    ncols -- number of columns.\n",
    "    nrows -- number of rows.\n",
    "    \"\"\"\n",
    "\n",
    "    # constructor\n",
    "    def __init__(self, array:'np array', columns:list):\n",
    "        \"\"\"\n",
    "        Array constructor.\n",
    "        array -- array of X data.\n",
    "        col -- column names.\n",
    "        \"\"\"\n",
    "        # validation\n",
    "        assert type(array)==np.ndarray, \"The data is not a numpy array.\"\n",
    "        assert type(columns)==list, \"The columns list not match with the data shape.\"\n",
    "        assert array.shape[1]==len(columns), \"The columns list not match with the data shape.\"\n",
    "        # set attributes\n",
    "        self.data = array\n",
    "        self.col = columns \n",
    "        # calculate number of rows and x columns\n",
    "        self.nrow = self.data.shape[0]\n",
    "        self.ncol = self.data.shape[1]\n",
    "    # columns selector\n",
    "    def sel(self,query:'string or list of strings'):\n",
    "        \"\"\"\n",
    "        Data column selector\n",
    "        \"\"\"\n",
    "        if type(query)==str: return self.data[:,self.col.index(query)]\n",
    "        elif type(query)==list:\n",
    "            if len(query)==0: return self.data\n",
    "            elif len(query)==1: return self.data[:,self.col.index(query[0])]\n",
    "            else: return self.data[:,[self.col.index(iq) for iq in query]]\n",
    "        else: return None\n",
    "        \n",
    "    # custom display\n",
    "    def __repr__(self):\n",
    "        return \"<Array nrow:%s ncol:%s>\" % (self.nrow, self.ncol)\n",
    "    \n",
    "    def __str__(self):\n",
    "        return \"Array: nrow=%s ncol=%s\" % (self.nrow, self.ncol)"
   ]
  },
  {
   "cell_type": "markdown",
   "metadata": {},
   "source": [
    "### read data"
   ]
  },
  {
   "cell_type": "code",
   "execution_count": 4,
   "metadata": {},
   "outputs": [],
   "source": [
    "# read data\n",
    "dfdata = pd.read_csv(file_input).set_index('dt')\n",
    "# include a string variable\n",
    "dfdata['strcol'] = ['this is a str value' for i in range(len(dfdata))]"
   ]
  },
  {
   "cell_type": "code",
   "execution_count": 5,
   "metadata": {},
   "outputs": [
    {
     "name": "stdout",
     "output_type": "stream",
     "text": [
      "nrows = 17302   ncols = 187\n"
     ]
    },
    {
     "data": {
      "text/plain": [
       "pandas.core.frame.DataFrame"
      ]
     },
     "execution_count": 5,
     "metadata": {},
     "output_type": "execute_result"
    }
   ],
   "source": [
    "print('nrows = %s   ncols = %s'%(len(dfdata),len(dfdata.columns.values)))\n",
    "type(dfdata)"
   ]
  },
  {
   "cell_type": "markdown",
   "metadata": {},
   "source": [
    "### data preparation"
   ]
  },
  {
   "cell_type": "code",
   "execution_count": 6,
   "metadata": {},
   "outputs": [
    {
     "data": {
      "text/plain": [
       "numpy.ndarray"
      ]
     },
     "execution_count": 6,
     "metadata": {},
     "output_type": "execute_result"
    }
   ],
   "source": [
    "## numpy basic array\n",
    "data = dfdata.values\n",
    "type(data)"
   ]
  },
  {
   "cell_type": "code",
   "execution_count": 7,
   "metadata": {},
   "outputs": [
    {
     "data": {
      "text/plain": [
       "numpy.ndarray"
      ]
     },
     "execution_count": 7,
     "metadata": {},
     "output_type": "execute_result"
    }
   ],
   "source": [
    "## numpy structured array\n",
    "tp = np.dtype({'names':tuple(dfdata.dtypes.index.tolist()),\n",
    "          'formats':tuple(dfdata.dtypes.tolist())})\n",
    "data_stru = np.zeros(len(dfdata), dtype=tp)\n",
    "for ic in dfdata.columns.values: data_stru[ic] = dfdata[ic].tolist()\n",
    "type(data_stru)"
   ]
  },
  {
   "cell_type": "code",
   "execution_count": 8,
   "metadata": {},
   "outputs": [
    {
     "data": {
      "text/plain": [
       "numpy.recarray"
      ]
     },
     "execution_count": 8,
     "metadata": {},
     "output_type": "execute_result"
    }
   ],
   "source": [
    "## numpy record array\n",
    "data_rec = dfdata.to_records()\n",
    "type(data_rec)"
   ]
  },
  {
   "cell_type": "code",
   "execution_count": 9,
   "metadata": {},
   "outputs": [
    {
     "data": {
      "text/plain": [
       "<Array nrow:17302 ncol:187>"
      ]
     },
     "execution_count": 9,
     "metadata": {},
     "output_type": "execute_result"
    }
   ],
   "source": [
    "## my own array object (numpy basic array with data selector)\n",
    "odata = Array(data,list(dfdata.columns.values))\n",
    "odata"
   ]
  },
  {
   "cell_type": "markdown",
   "metadata": {},
   "source": [
    "## PERFORMANCE"
   ]
  },
  {
   "cell_type": "markdown",
   "metadata": {},
   "source": [
    "### Memory usage"
   ]
  },
  {
   "cell_type": "code",
   "execution_count": 10,
   "metadata": {},
   "outputs": [
    {
     "name": "stdout",
     "output_type": "stream",
     "text": [
      "Pandas 27 MB / 28375304 B \n",
      "Numpy Basic 0 MB / 112 B  \n",
      "Numpy Structured 24 MB / 25883888 B  \n",
      "Numpy Record 24 MB / 26022328 B  \n",
      "Custom Array 0 MB / 56 B  \n"
     ]
    }
   ],
   "source": [
    "MB = 1024*1024\n",
    "print(\"Pandas %d MB / %d B \" % (sys.getsizeof(dfdata)/MB,sys.getsizeof(dfdata)))\n",
    "print(\"Numpy Basic %d MB / %d B  \" % (sys.getsizeof(data)/MB,sys.getsizeof(data)))\n",
    "print(\"Numpy Structured %d MB / %d B  \" % (sys.getsizeof(data_stru)/MB,sys.getsizeof(data_stru)))\n",
    "print(\"Numpy Record %d MB / %d B  \" % (sys.getsizeof(data_rec)/MB,sys.getsizeof(data_rec)))\n",
    "print(\"Custom Array %d MB / %d B  \" % (sys.getsizeof(odata)/MB,sys.getsizeof(odata)))"
   ]
  },
  {
   "cell_type": "markdown",
   "metadata": {},
   "source": [
    "## Performance"
   ]
  },
  {
   "cell_type": "markdown",
   "metadata": {},
   "source": [
    "### Data access: integer"
   ]
  },
  {
   "cell_type": "code",
   "execution_count": 11,
   "metadata": {},
   "outputs": [
    {
     "name": "stdout",
     "output_type": "stream",
     "text": [
      "Pandas:\n",
      "1.56 µs ± 4.4 ns per loop (mean ± std. dev. of 7 runs, 1000000 loops each)\n",
      "Numpy Basic:\n",
      "213 ns ± 1.32 ns per loop (mean ± std. dev. of 7 runs, 1000000 loops each)\n",
      "Numpy Structured:\n",
      "140 ns ± 1.68 ns per loop (mean ± std. dev. of 7 runs, 10000000 loops each)\n",
      "Numpy Record:\n",
      "2.81 µs ± 18.2 ns per loop (mean ± std. dev. of 7 runs, 100000 loops each)\n",
      "3.95 µs ± 31.1 ns per loop (mean ± std. dev. of 7 runs, 100000 loops each)\n",
      "Custom Array:\n",
      "659 ns ± 6.29 ns per loop (mean ± std. dev. of 7 runs, 1000000 loops each)\n"
     ]
    }
   ],
   "source": [
    "print('Pandas:')\n",
    "%timeit dfdata['hforecast']\n",
    "print('Numpy Basic:')\n",
    "%timeit data[:,0]\n",
    "print('Numpy Structured:')\n",
    "%timeit data_stru['hforecast']\n",
    "print('Numpy Record:')\n",
    "%timeit data_rec['hforecast']\n",
    "%timeit data_rec.hforecast\n",
    "print('Custom Array:')\n",
    "%timeit odata.sel('hforecast')"
   ]
  },
  {
   "cell_type": "markdown",
   "metadata": {},
   "source": [
    "### Data access: float"
   ]
  },
  {
   "cell_type": "code",
   "execution_count": 12,
   "metadata": {},
   "outputs": [
    {
     "name": "stdout",
     "output_type": "stream",
     "text": [
      "Pandas:\n",
      "1.59 µs ± 1.39 ns per loop (mean ± std. dev. of 7 runs, 1000000 loops each)\n",
      "Numpy Basic:\n",
      "5.67 µs ± 11.3 ns per loop (mean ± std. dev. of 7 runs, 100000 loops each)\n",
      "221 ns ± 1.18 ns per loop (mean ± std. dev. of 7 runs, 1000000 loops each)\n",
      "Numpy Structured:\n",
      "134 ns ± 2.88 ns per loop (mean ± std. dev. of 7 runs, 10000000 loops each)\n",
      "Numpy Record:\n",
      "2.78 µs ± 24.4 ns per loop (mean ± std. dev. of 7 runs, 100000 loops each)\n",
      "19.6 µs ± 90.3 ns per loop (mean ± std. dev. of 7 runs, 100000 loops each)\n",
      "Custom Array:\n",
      "2.45 µs ± 23.7 ns per loop (mean ± std. dev. of 7 runs, 100000 loops each)\n"
     ]
    }
   ],
   "source": [
    "print('Pandas:')\n",
    "%timeit dfdata['y']\n",
    "print('Numpy Basic:')\n",
    "ii = list(dfdata.columns.values).index(\"y\")\n",
    "%timeit list(dfdata.columns.values).index(\"y\")\n",
    "%timeit data[:,ii]\n",
    "print('Numpy Structured:')\n",
    "%timeit data_stru['y']\n",
    "print('Numpy Record:')\n",
    "%timeit data_rec['y']\n",
    "%timeit data_rec.y\n",
    "print('Custom Array:')\n",
    "%timeit odata.sel('y')"
   ]
  },
  {
   "cell_type": "markdown",
   "metadata": {},
   "source": [
    "### Data access: string"
   ]
  },
  {
   "cell_type": "code",
   "execution_count": 13,
   "metadata": {},
   "outputs": [
    {
     "name": "stdout",
     "output_type": "stream",
     "text": [
      "Pandas:\n",
      "1.53 µs ± 27.2 ns per loop (mean ± std. dev. of 7 runs, 1000000 loops each)\n",
      "Numpy Basic:\n",
      "219 ns ± 5.7 ns per loop (mean ± std. dev. of 7 runs, 1000000 loops each)\n",
      "Numpy Structured:\n",
      "133 ns ± 1.59 ns per loop (mean ± std. dev. of 7 runs, 10000000 loops each)\n",
      "Numpy Record:\n",
      "2.76 µs ± 15.3 ns per loop (mean ± std. dev. of 7 runs, 100000 loops each)\n",
      "19.6 µs ± 15.9 ns per loop (mean ± std. dev. of 7 runs, 100000 loops each)\n",
      "Custom Array:\n",
      "2.68 µs ± 8.28 ns per loop (mean ± std. dev. of 7 runs, 100000 loops each)\n"
     ]
    }
   ],
   "source": [
    "print('Pandas:')\n",
    "%timeit dfdata['strcol']\n",
    "print('Numpy Basic:')\n",
    "%timeit data[:,-1]\n",
    "print('Numpy Structured:')\n",
    "%timeit data_stru['strcol']\n",
    "print('Numpy Record:')\n",
    "%timeit data_rec['strcol']\n",
    "%timeit data_rec.strcol\n",
    "print('Custom Array:')\n",
    "%timeit odata.sel('strcol')"
   ]
  },
  {
   "cell_type": "markdown",
   "metadata": {},
   "source": [
    "### Operations on a column (unfiltered): mean"
   ]
  },
  {
   "cell_type": "code",
   "execution_count": 14,
   "metadata": {},
   "outputs": [
    {
     "name": "stdout",
     "output_type": "stream",
     "text": [
      "Pandas:\n",
      "42.8 µs ± 719 ns per loop (mean ± std. dev. of 7 runs, 10000 loops each)\n",
      "Numpy Basic:\n",
      "6.07 µs ± 147 ns per loop (mean ± std. dev. of 7 runs, 100000 loops each)\n",
      "163 µs ± 859 ns per loop (mean ± std. dev. of 7 runs, 10000 loops each)\n",
      "Numpy Structured:\n",
      "59.3 µs ± 304 ns per loop (mean ± std. dev. of 7 runs, 10000 loops each)\n",
      "Numpy Record:\n",
      "63.7 µs ± 171 ns per loop (mean ± std. dev. of 7 runs, 10000 loops each)\n",
      "82.3 µs ± 276 ns per loop (mean ± std. dev. of 7 runs, 10000 loops each)\n",
      "Custom Array:\n",
      "169 µs ± 2.12 µs per loop (mean ± std. dev. of 7 runs, 10000 loops each)\n"
     ]
    }
   ],
   "source": [
    "print('Pandas:')\n",
    "%timeit dfdata['y'].mean()\n",
    "print('Numpy Basic:')\n",
    "ii = list(dfdata.columns.values).index(\"y\")\n",
    "%timeit list(dfdata.columns.values).index(\"y\")\n",
    "%timeit np.mean(data[:,ii])\n",
    "print('Numpy Structured:')\n",
    "%timeit np.mean(data_stru['y'])\n",
    "print('Numpy Record:')\n",
    "%timeit np.mean(data_rec['y'])\n",
    "%timeit np.mean(data_rec.y)\n",
    "print('Custom Array:')\n",
    "%timeit np.mean(odata.sel('y'))"
   ]
  },
  {
   "cell_type": "markdown",
   "metadata": {},
   "source": [
    "### Operations on a column (unfiltered): vectorized log"
   ]
  },
  {
   "cell_type": "code",
   "execution_count": 16,
   "metadata": {},
   "outputs": [
    {
     "name": "stdout",
     "output_type": "stream",
     "text": [
      "Pandas:\n",
      "58.8 µs ± 1.55 µs per loop (mean ± std. dev. of 7 runs, 10000 loops each)\n",
      "Numpy Basic:\n",
      "Numpy Structured:\n"
     ]
    },
    {
     "name": "stderr",
     "output_type": "stream",
     "text": [
      "/home/juan/anaconda3/lib/python3.6/site-packages/ipykernel_launcher.py:1: RuntimeWarning: divide by zero encountered in log\n",
      "  \"\"\"Entry point for launching an IPython kernel.\n"
     ]
    },
    {
     "name": "stdout",
     "output_type": "stream",
     "text": [
      "481 µs ± 4.63 µs per loop (mean ± std. dev. of 7 runs, 1000 loops each)\n",
      "Numpy Record:\n"
     ]
    },
    {
     "name": "stderr",
     "output_type": "stream",
     "text": [
      "/home/juan/anaconda3/lib/python3.6/site-packages/ipykernel_launcher.py:1: RuntimeWarning: divide by zero encountered in log\n",
      "  \"\"\"Entry point for launching an IPython kernel.\n"
     ]
    },
    {
     "name": "stdout",
     "output_type": "stream",
     "text": [
      "479 µs ± 858 ns per loop (mean ± std. dev. of 7 runs, 1000 loops each)\n"
     ]
    },
    {
     "name": "stderr",
     "output_type": "stream",
     "text": [
      "/home/juan/anaconda3/lib/python3.6/site-packages/ipykernel_launcher.py:1: RuntimeWarning: divide by zero encountered in log\n",
      "  \"\"\"Entry point for launching an IPython kernel.\n"
     ]
    },
    {
     "name": "stdout",
     "output_type": "stream",
     "text": [
      "497 µs ± 1.12 µs per loop (mean ± std. dev. of 7 runs, 1000 loops each)\n"
     ]
    }
   ],
   "source": [
    "print('Pandas:')\n",
    "%timeit np.log(dfdata['y'])\n",
    "print('Numpy Basic:')\n",
    "#ii = list(dfdata.columns.values).index(\"y\")\n",
    "#%timeit list(dfdata.columns.values).index(\"y\")\n",
    "#%timeit np.log(data[:,ii])\n",
    "print('Numpy Structured:')\n",
    "%timeit np.log(data_stru['y'])\n",
    "print('Numpy Record:')\n",
    "%timeit np.log(data_rec['y'])\n",
    "%timeit np.log(data_rec.y)\n",
    "#print('Custom Array:')\n",
    "#%timeit np.log(odata.sel('y'))"
   ]
  },
  {
   "cell_type": "markdown",
   "metadata": {},
   "source": [
    "### Filtering: rows and one column"
   ]
  },
  {
   "cell_type": "code",
   "execution_count": 65,
   "metadata": {},
   "outputs": [
    {
     "name": "stdout",
     "output_type": "stream",
     "text": [
      "Pandas:\n",
      "3.99 ms ± 4.07 µs per loop (mean ± std. dev. of 7 runs, 100 loops each)\n",
      "Numpy Basic:\n",
      "50.4 ms ± 34.5 µs per loop (mean ± std. dev. of 7 runs, 10 loops each)\n",
      "Numpy Structured:\n",
      "40.4 ms ± 66.8 µs per loop (mean ± std. dev. of 7 runs, 10 loops each)\n",
      "Numpy Record:\n",
      "38.5 ms ± 105 µs per loop (mean ± std. dev. of 7 runs, 10 loops each)\n",
      "39.2 ms ± 521 µs per loop (mean ± std. dev. of 7 runs, 10 loops each)\n"
     ]
    }
   ],
   "source": [
    "print('Pandas:')\n",
    "%timeit dfdata[(dfdata['hforecast']>=6) & (dfdata['hforecast']<=12)]['hforecast']\n",
    "print('Numpy Basic:')\n",
    "%timeit data[(data[:,0]>=6) & (data[:,0]<=12)][:,0]\n",
    "print('Numpy Structured:')\n",
    "%timeit data_stru[(data_stru['hforecast']>=6) & (data_stru['hforecast']<=12)]['hforecast']\n",
    "print('Numpy Record:')\n",
    "%timeit data_rec[(data_rec['hforecast']>=6) & (data_rec['hforecast']<=12)]['hforecast']\n",
    "%timeit data_rec[(data_rec.hforecast>=6) & (data_rec.hforecast<=12)].hforecast"
   ]
  },
  {
   "cell_type": "markdown",
   "metadata": {},
   "source": [
    "### Operations on a column (filtered): mean"
   ]
  },
  {
   "cell_type": "code",
   "execution_count": 67,
   "metadata": {},
   "outputs": [
    {
     "name": "stdout",
     "output_type": "stream",
     "text": [
      "Pandas:\n",
      "4.31 ms ± 273 µs per loop (mean ± std. dev. of 7 runs, 100 loops each)\n",
      "Numpy Basic:\n",
      "50.8 ms ± 1.34 ms per loop (mean ± std. dev. of 7 runs, 10 loops each)\n",
      "Numpy Structured:\n",
      "40.4 ms ± 897 µs per loop (mean ± std. dev. of 7 runs, 10 loops each)\n",
      "Numpy Record:\n",
      "39.5 ms ± 495 µs per loop (mean ± std. dev. of 7 runs, 10 loops each)\n",
      "39.5 ms ± 726 µs per loop (mean ± std. dev. of 7 runs, 10 loops each)\n"
     ]
    }
   ],
   "source": [
    "print('Pandas:')\n",
    "%timeit dfdata[(dfdata['hforecast']>=6) & (dfdata['hforecast']<=12)]['hforecast'].mean()\n",
    "print('Numpy Basic:')\n",
    "%timeit np.mean(data[(data[:,0]>=6) & (data[:,0]<=12)][:,0])\n",
    "print('Numpy Structured:')\n",
    "%timeit np.mean(data_stru[(data_stru['hforecast']>=6) & (data_stru['hforecast']<=12)]['hforecast'])\n",
    "print('Numpy Record:')\n",
    "%timeit np.mean(data_rec[(data_rec['hforecast']>=6) & (data_rec['hforecast']<=12)]['hforecast'])\n",
    "%timeit np.mean(data_rec[(data_rec.hforecast>=6) & (data_rec.hforecast<=12)].hforecast)"
   ]
  },
  {
   "cell_type": "markdown",
   "metadata": {},
   "source": [
    "## **Ranking:**\n",
    "- **Memory usage**: Pandas > Numpy Structured >< Numpy Record >> Numpy Basic > Custom Array. \n",
    "- **Data (column) access performance**: Numpy Structured > Numpy Basic >> Pandas > Numpy Record > Numpy Record (attribute). **Note**: depend on type of data but normally is in 3rd or 4th position.\n",
    "- **Data (column) operation (mean) performance**: Pandas > Numpy Structured > Numpy Record > Numpy Basic > Custom Array. \n",
    "- **Data (column) operation (vectorized log) performance**: Pandas >> Numpy Structured > Numpy Record > Numpy Basic.\n",
    "- **Data filtering: select one column and filter rows**: Pandas >> Numpy Record > Numpy Structured > Numpy Basic.\n",
    "\n",
    "## **Conclusions:**\n",
    "\n",
    "- For **Exploratory Data Analysis (EDA)** in particular, for data handle in development phase in general, the best options is using **Pandas dataframes** because the memory usage here is not so important and his available tools are extremely usefuls.\n",
    "- For an **operative predictive model** in particular, and for Machine Learning development in general, the best options is using **Numpy basic arrays\"** because his memory usage is the performance is not so different than using Pandas.\n",
    "\n",
    "#### **Pandas usage exceptions:**\n",
    "In the **data preparation** phase maybe we need to use Pandas because:\n",
    "- necessary tools to be used for our purposes.\n",
    "- a much better performance filtering data."
   ]
  },
  {
   "cell_type": "markdown",
   "metadata": {},
   "source": [
    "### References:\n",
    "- [Structured Data: NumPy's Structured Arrays](https://jakevdp.github.io/PythonDataScienceHandbook/02.09-structured-data-numpy.html)\n",
    "- [Numpy Vs Pandas Performance Comparison](http://gouthamanbalaraman.com/blog/numpy-vs-pandas-comparison.html)"
   ]
  }
 ],
 "metadata": {
  "kernelspec": {
   "display_name": "Python 3",
   "language": "python",
   "name": "python3"
  },
  "language_info": {
   "codemirror_mode": {
    "name": "ipython",
    "version": 3
   },
   "file_extension": ".py",
   "mimetype": "text/x-python",
   "name": "python",
   "nbconvert_exporter": "python",
   "pygments_lexer": "ipython3",
   "version": "3.6.5"
  }
 },
 "nbformat": 4,
 "nbformat_minor": 2
}
